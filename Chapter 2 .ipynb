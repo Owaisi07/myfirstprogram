{
 "cells": [
  {
   "cell_type": "code",
   "execution_count": 5,
   "id": "47b455c3",
   "metadata": {},
   "outputs": [
    {
     "name": "stdout",
     "output_type": "stream",
     "text": [
      "Assalamualikum world\n"
     ]
    }
   ],
   "source": [
    "print(\"Assalamualikum world\")"
   ]
  },
  {
   "cell_type": "code",
   "execution_count": 4,
   "id": "ad534a29",
   "metadata": {},
   "outputs": [
    {
     "name": "stdout",
     "output_type": "stream",
     "text": [
      "27.2\n"
     ]
    }
   ],
   "source": [
    "x = 12.2 # x and y are variables here\n",
    "y = 15\n",
    "print(x + y)"
   ]
  },
  {
   "cell_type": "code",
   "execution_count": 6,
   "id": "98033bee",
   "metadata": {},
   "outputs": [
    {
     "name": "stdout",
     "output_type": "stream",
     "text": [
      "{'danial': 2, 'ihtasham': 2, 'hassan': 1, 'awais': 1}\n"
     ]
    }
   ],
   "source": [
    "count = dict()\n",
    "names = ['danial', 'ihtasham', 'hassan', 'danial', 'ihtasham', 'awais']\n",
    "for name in names:\n",
    "    if name not in count:\n",
    "        count[name] = 1\n",
    "    else:\n",
    "        count[name] = count[name] + 1\n",
    "print(count)"
   ]
  },
  {
   "cell_type": "code",
   "execution_count": 7,
   "id": "dfee3884",
   "metadata": {},
   "outputs": [
    {
     "name": "stdout",
     "output_type": "stream",
     "text": [
      "{'danial': 2, 'ihtasham': 2, 'hassan': 1, 'awais': 1}\n"
     ]
    }
   ],
   "source": [
    "count = dict()\n",
    "names = ['danial', 'ihtasham', 'hassan', 'danial', 'ihtasham', 'awais']\n",
    "for name in names:\n",
    "    count[name] = count.get(name,0)+1\n",
    "print(count)"
   ]
  },
  {
   "cell_type": "code",
   "execution_count": null,
   "id": "d152d2e9",
   "metadata": {},
   "outputs": [],
   "source": [
    "count = dict()\n",
    "line = input('En\n",
    "             ter a line:')\n",
    "list = line.split()\n",
    "for word in list:\n",
    "    count[word] = count.get(word,0) + 1\n",
    "print(count)"
   ]
  },
  {
   "cell_type": "code",
   "execution_count": null,
   "id": "8bba0ab1",
   "metadata": {},
   "outputs": [],
   "source": []
  },
  {
   "cell_type": "code",
   "execution_count": null,
   "id": "02bca2e0",
   "metadata": {},
   "outputs": [],
   "source": []
  }
 ],
 "metadata": {
  "kernelspec": {
   "display_name": "Python 3 (ipykernel)",
   "language": "python",
   "name": "python3"
  },
  "language_info": {
   "codemirror_mode": {
    "name": "ipython",
    "version": 3
   },
   "file_extension": ".py",
   "mimetype": "text/x-python",
   "name": "python",
   "nbconvert_exporter": "python",
   "pygments_lexer": "ipython3",
   "version": "3.11.4"
  }
 },
 "nbformat": 4,
 "nbformat_minor": 5
}
