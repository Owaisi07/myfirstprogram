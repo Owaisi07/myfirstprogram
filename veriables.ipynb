{
 "cells": [
  {
   "cell_type": "code",
   "execution_count": 2,
   "id": "3ea4f4fb",
   "metadata": {},
   "outputs": [
    {
     "name": "stdout",
     "output_type": "stream",
     "text": [
      "h32rb7\n"
     ]
    }
   ],
   "source": [
    "# call a veriable\n",
    "\n",
    "device_id = \"h32rb7\"\n",
    "print(device_id)"
   ]
  },
  {
   "cell_type": "code",
   "execution_count": 3,
   "id": "e162eb01",
   "metadata": {
    "scrolled": true
   },
   "outputs": [
    {
     "name": "stdout",
     "output_type": "stream",
     "text": [
      "h32rb7\n",
      "h53rb7\n"
     ]
    }
   ],
   "source": [
    "device_id = \"h32rb7\"\n",
    "print(device_id)\n",
    "print(\"h53rb7\")"
   ]
  },
  {
   "cell_type": "code",
   "execution_count": 5,
   "id": "c6f94ad7",
   "metadata": {},
   "outputs": [
    {
     "name": "stdout",
     "output_type": "stream",
     "text": [
      "<class 'str'>\n"
     ]
    }
   ],
   "source": [
    "# using type function\n",
    "device_id = \"h32rb7\"\n",
    "data_type = type(device_id)\n",
    "print(data_type)"
   ]
  },
  {
   "cell_type": "code",
   "execution_count": 6,
   "id": "7848f7fe",
   "metadata": {},
   "outputs": [
    {
     "ename": "TypeError",
     "evalue": "can only concatenate str (not \"int\") to str",
     "output_type": "error",
     "traceback": [
      "\u001b[1;31m---------------------------------------------------------------------------\u001b[0m",
      "\u001b[1;31mTypeError\u001b[0m                                 Traceback (most recent call last)",
      "Cell \u001b[1;32mIn[6], line 4\u001b[0m\n\u001b[0;32m      2\u001b[0m device_id \u001b[38;5;241m=\u001b[39m \u001b[38;5;124m\"\u001b[39m\u001b[38;5;124mh32rb7\u001b[39m\u001b[38;5;124m\"\u001b[39m\n\u001b[0;32m      3\u001b[0m number \u001b[38;5;241m=\u001b[39m \u001b[38;5;241m3\u001b[39m\n\u001b[1;32m----> 4\u001b[0m \u001b[38;5;28mprint\u001b[39m(device_id \u001b[38;5;241m+\u001b[39m number)\n",
      "\u001b[1;31mTypeError\u001b[0m: can only concatenate str (not \"int\") to str"
     ]
    }
   ],
   "source": [
    "# demonstrate type error \n",
    "device_id = \"h32rb7\"\n",
    "number = 3\n",
    "print(device_id + number)"
   ]
  },
  {
   "cell_type": "code",
   "execution_count": 7,
   "id": "7b77e98b",
   "metadata": {},
   "outputs": [
    {
     "name": "stdout",
     "output_type": "stream",
     "text": [
      "h32rb7\n",
      "7gh345\n"
     ]
    }
   ],
   "source": [
    "# reassigning veriable\n",
    "\n",
    "device_id = \"h32rb7\"\n",
    "print(device_id)\n",
    "device_id = \"7gh345\"\n",
    "print(device_id)"
   ]
  },
  {
   "cell_type": "code",
   "execution_count": null,
   "id": "90484875",
   "metadata": {},
   "outputs": [],
   "source": []
  }
 ],
 "metadata": {
  "kernelspec": {
   "display_name": "Python 3 (ipykernel)",
   "language": "python",
   "name": "python3"
  },
  "language_info": {
   "codemirror_mode": {
    "name": "ipython",
    "version": 3
   },
   "file_extension": ".py",
   "mimetype": "text/x-python",
   "name": "python",
   "nbconvert_exporter": "python",
   "pygments_lexer": "ipython3",
   "version": "3.11.4"
  }
 },
 "nbformat": 4,
 "nbformat_minor": 5
}
